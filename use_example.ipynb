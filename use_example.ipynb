{
 "cells": [
  {
   "cell_type": "code",
   "execution_count": 1,
   "metadata": {},
   "outputs": [
    {
     "name": "stdout",
     "output_type": "stream",
     "text": [
      "Slope 166000000000000.0\n",
      "Bandwith 3984.0 GHz\n",
      "Minimum Frame Periodicity: 11.904000000000002 ms\n",
      "Chirps Per Frame: 384\n",
      "Num Range Bins: 256\n",
      "Range Resolution: 0.03762455547188755 m\n",
      "Max Unambiguous Range: 8.668697580722892 m\n",
      "Num Doppler Bins: 128\n",
      "Doppler Resolution: 0.20986815216173832 m/s\n",
      "Max Doppler: 13.431561738351252 m/s\n",
      "Num Azimuth Bins: 64\n",
      "Num Elevation Bins: 32\n"
     ]
    }
   ],
   "source": [
    "import pickle\n",
    "import numpy as np\n",
    "import heatmaps\n",
    "# from animated_plots import animateFFTRange, animateRangeHeatmap, animateDopplerRangeHeatmap, animateAzimuthRangeHeatmap\n",
    "from fourier import rangeFFT, angleFFT, dopplerFFT\n",
    "from params import PARAMS\n",
    "from raw_signal import RadarData, plot_signal\n",
    "import matplotlib.pyplot as plt\n",
    "from time import sleep as sleep\n",
    "from IPython.display import display, clear_output"
   ]
  },
  {
   "cell_type": "code",
   "execution_count": 2,
   "metadata": {},
   "outputs": [],
   "source": [
    "# Load data from file\n",
    "data = pickle.load(open('data/openradar_25-01-23_QMUL-MCR.dat', 'rb'))\n",
    "# Configure playback mode\n",
    "config = data['config']\n",
    "PARAMS.set_playback_mode(config)\n",
    "# Read main parameters\n",
    "rdata = RadarData(device='IWR6843ISK-ODS',\n",
    "                  tx=PARAMS.TX_ANTENNAS,\n",
    "                  rx=PARAMS.RX_ANTENNAS,\n",
    "                  loops=PARAMS.CHIRP_LOOPS,\n",
    "                  samples=PARAMS.ADC_SAMPLES)\n",
    "\n",
    "# Get data frame\n",
    "frames = data['data']\n",
    "# Choose frame\n",
    "adc_data = frames[2]\n",
    "# Set RadarData raw_data\n",
    "rdata.raw_data = adc_data\n",
    "# Access data separated by Rx and Tx antennas\n",
    "v_array = rdata.separated_vx_data\n",
    "## Doppler FFT\n",
    "[dFFT, dBins, rBins] = dopplerFFT(v_array)\n",
    "\n",
    "# fig, ax = plt.subplots()\n",
    "# c = ax.pcolormesh(rBins[8*4:60*8], dBins, dFFT[:,8*4:60*8])\n",
    "# fig.colorbar(c, ax=ax)\n",
    "# ax.set_title('Doppler-Range Heatmap')\n",
    "# ax.set_xlabel('Range (m)')\n",
    "# ax.set_ylabel('Doppler (m/s)')\n",
    "# plt.show()"
   ]
  },
  {
   "cell_type": "code",
   "execution_count": null,
   "metadata": {},
   "outputs": [],
   "source": [
    "## Doppler FFT\n",
    "[dFFT, dBins, rBins] = dopplerFFT(v_array)\n",
    "\n",
    "fig, ax = plt.subplots()\n",
    "c = ax.pcolormesh([rBins[8*4:60*5]], dBins[128:128+256], dFFT[128:128+256,8*4:60*5])\n",
    "# fig.colorbar(c, ax=ax)\n",
    "ax.set_title('Velocity-Range Heatmap')\n",
    "ax.set_xlabel('Range (m)')\n",
    "ax.set_ylabel('Velocity (m/s)')\n",
    "for n in range(np.size(frames,0)):\n",
    "    # Choose frame\n",
    "    adc_data = frames[n]\n",
    "    # Set RadarData raw_data\n",
    "    rdata.raw_data = adc_data\n",
    "    # Access data separated by Rx and Tx antennas\n",
    "    v_array = rdata.separated_vx_data\n",
    "    ## Doppler FFT\n",
    "    [dFFT, dBins, rBins] = dopplerFFT(v_array)\n",
    "    c.set_array(dFFT[128:256+128,8*4:60*5])\n",
    "    # plt.show()\n",
    "    ax.set_title('Velocity-Range Heatmap ' + '-- Frame #' + str(n+1))\n",
    "    # ax.subtitle()\n",
    "    fig.savefig('images/doppler'+str(n+1),dpi=600)\n",
    "    display(fig)\n",
    "    clear_output(wait = True)\n",
    "    plt.pause(0.1)\n"
   ]
  },
  {
   "cell_type": "code",
   "execution_count": null,
   "metadata": {},
   "outputs": [],
   "source": [
    "from scipy.interpolate import CubicSpline\n",
    "## 1D RANGE FFT and radar cube\n",
    "[RC, rFFT, rBins] = rangeFFT(v_array[100,:,:],rdata.device)\n",
    "# The range profile can be extracted from this as\n",
    "rProf = np.mean(abs(rFFT[:,0:128]),axis=0)[8:]\n",
    "# Cubic Spline\n",
    "f = CubicSpline(rBins[8:128],rProf, bc_type='natural')\n",
    "xnew= np.linspace(rBins[8],rBins[128],num=1000)\n",
    "ynew = f(xnew)\n",
    "# yinterp = np.interp(xvals, rBins[8:128], np.mean(abs(rFFT[:,0:128]),axis=0)[8:])\n",
    "plt.plot(xnew,ynew)\n",
    "plt.xlabel('Range (m)')\n",
    "plt.grid(visible=True)\n",
    "# plt.show()\n",
    "plt.savefig('images/rProfile.png',dpi=600)\n"
   ]
  },
  {
   "cell_type": "code",
   "execution_count": null,
   "metadata": {},
   "outputs": [],
   "source": [
    "fig, ax = plt.subplots()\n",
    "line1 = ax.plot(0, 0)\n",
    "\n",
    "\n",
    "ax.set_title('Range Profile')\n",
    "ax.set_xlabel('Range (m)')\n",
    "ax.grid(visible=True)\n",
    "\n",
    "\n",
    "for n in range(np.size(frames,0)):\n",
    "    # Choose frame\n",
    "    adc_data = frames[n]\n",
    "    # Set RadarData raw_data\n",
    "    rdata.raw_data = adc_data\n",
    "    # Access data separated by Rx and Tx antennas\n",
    "    v_array = rdata.separated_vx_data\n",
    "    ## 1D RANGE FFT and radar cube\n",
    "    [RC, rFFT, rBins] = rangeFFT(v_array[100,:,:],rdata.device)\n",
    "    # The range profile can be extracted from this as\n",
    "    rProf = np.mean(abs(rFFT[:,0:128]),axis=0)[8:]\n",
    "    # Cubic Spline\n",
    "    f = CubicSpline(rBins[8:128],rProf, bc_type='natural')\n",
    "    xnew= np.linspace(rBins[8],rBins[128],num=1000)\n",
    "    ynew = f(xnew)\n",
    "\n",
    "    ax.cla()\n",
    "    ax.set_title('Range Profile')\n",
    "    ax.set_xlabel('Range (m)')\n",
    "    ax.grid(visible=True)\n",
    "    ax.set_ylim(0,130000)\n",
    "    ax.plot(xnew,ynew)\n",
    "    ax.legend(['Frame #' + str(n+1)])\n",
    "    display(fig)\n",
    "    clear_output(wait = True)\n",
    "    # fig.savefig('images/rProf'+str(n+1),dpi=600)\n",
    "    plt.pause(0.1)"
   ]
  },
  {
   "cell_type": "code",
   "execution_count": null,
   "metadata": {},
   "outputs": [],
   "source": [
    "fig, ax = plt.subplots()\n",
    "line1 = ax.plot(0, 0)\n",
    "\n",
    "\n",
    "ax.set_title('Range Profile')\n",
    "ax.set_xlabel('Range (m)')\n",
    "ax.grid(visible=True)\n",
    "\n",
    "adc_data = frames[10]\n",
    "# Set RadarData raw_data\n",
    "rdata.raw_data = adc_data\n",
    "# Access data separated by Rx and Tx antennas\n",
    "v_array = rdata.separated_vx_data\n",
    "\n",
    "for n in range(np.size(v_array,0)):\n",
    "    ## 1D RANGE FFT and radar cube\n",
    "    [RC, rFFT, rBins] = rangeFFT(v_array[n,:,:],rdata.device)\n",
    "    # The range profile can be extracted from this as\n",
    "    rProf = np.mean(abs(rFFT[:,0:128]),axis=0)[8:]\n",
    "    # Cubic Spline\n",
    "    f = CubicSpline(rBins[8:128],rProf, bc_type='natural')\n",
    "    xnew= np.linspace(rBins[8],rBins[128],num=1000)\n",
    "    ynew = f(xnew)\n",
    "\n",
    "    ax.cla()\n",
    "    # ax.set_label = \n",
    "    ax.set_ylim(0,130000)\n",
    "    ax.plot(xnew,ynew)\n",
    "    ax.legend(['Chirp #' + str(n+1)])\n",
    "    ax.grid(visible=True)\n",
    "\n",
    "    display(fig)\n",
    "    clear_output(wait = True)\n",
    "    # fig.savefig('images/rProfSlowTime'+str(n+1),dpi=600)\n",
    "    plt.pause(0.1)"
   ]
  },
  {
   "cell_type": "code",
   "execution_count": 54,
   "metadata": {},
   "outputs": [
    {
     "data": {
      "image/png": "[encoded data removed]",
      "text/plain": [
       "<Figure size 432x288 with 2 Axes>"
      ]
     },
     "metadata": {
      "needs_background": "light"
     },
     "output_type": "display_data"
    }
   ],
   "source": [
    "fig, ax1 = plt.subplots()\n",
    "\n",
    "ax1.set_title('Phase evolution in one frame')\n",
    "ax1.set_xlabel('Chirp number')\n",
    "ax1.set_ylabel('Phase (deg)')\n",
    "ax1.grid(visible=True)\n",
    "ax1.tick_params(axis='y',labelcolor='red')\n",
    "\n",
    "ax2 = ax1.twinx()\n",
    "ax2.set_ylabel('Target bin')\n",
    "ax2.tick_params(axis ='y', labelcolor = 'blue') \n",
    "\n",
    "adc_data = frames[10]\n",
    "# Set RadarData raw_data\n",
    "rdata.raw_data = adc_data\n",
    "# Access data separated by Rx and Tx antennas\n",
    "v_array = rdata.separated_vx_data\n",
    "## 1D RANGE FFT and radar cube\n",
    "[RC, rFFT, rBins] = rangeFFT(v_array[0,:,:],rdata.device)\n",
    "rMaxLoc = np.argmax(abs(rFFT[0,:128]))\n",
    "# plt.plot(abs(rFFT[0,:128]))\n",
    "# plt.show()\n",
    "rPhase = np.zeros((1,np.size(v_array,0)))\n",
    "rm = np.zeros((1,np.size(v_array,0)))\n",
    "\n",
    "for n in range(np.size(v_array,0)):\n",
    "    ## 1D RANGE FFT and radar cube\n",
    "    [RC, rFFT, rBins] = rangeFFT(v_array[n,:,:],rdata.device)\n",
    "    # The range profile can be extracted from this as\n",
    "    rPhase[0,n] = np.angle(rFFT[0,rMaxLoc],deg=True)\n",
    "    rm[0,n] = np.argmax(abs(rFFT[0,:128]))\n",
    "ax2.plot(rm.T,color='red')\n",
    "ax1.plot(rPhase.T,color='blue')\n",
    "plt.show()\n",
    "fig.savefig('images/phaseEvolution',dpi=600)\n"
   ]
  },
  {
   "cell_type": "code",
   "execution_count": null,
   "metadata": {},
   "outputs": [],
   "source": [
    "## 2D AZIMUTH & ELEVATION FFTs\n",
    "[aFFT, eFFT, aBins, eBins] = angleFFT(RC)"
   ]
  },
  {
   "cell_type": "code",
   "execution_count": null,
   "metadata": {},
   "outputs": [],
   "source": [
    "# Polar heatmaps\n",
    "# heatmaps.plotAzimuthRangeHeatmap(rBins[:80],aBins[1:],aFFT[1:,:80])\n",
    "# heatmaps.plotElevationRangeHeatmap(rBins[:80],eBins[1:],eFFT[1:,:80])\n",
    "# Cartesian HEATMAP\n",
    "from fourier import matlabMultip\n",
    "# heatmaps.plotXYheatmap(rBins[:60],aBins[1:],10*np.log10(aFFT[1:,:60]))\n",
    "ax = plt.axes()\n",
    "X = matlabMultip(rBins[:60].T, np.sin(aBins[1:]*np.pi/180))\n",
    "Y = matlabMultip(rBins[:60].T, np.cos(aBins[1:]*np.pi/180))\n",
    "# ax.plot_surface(X, Y, 10*np.log10(aFFT[1:,:60]).T, cmap=plt.cm.jet,linewidth=0 )\n",
    "ax.pcolormesh(X,Y,(aFFT[1:,:60]).T)\n",
    "# ax.view_init(90, 90)"
   ]
  },
  {
   "cell_type": "code",
   "execution_count": null,
   "metadata": {},
   "outputs": [],
   "source": [
    "## Doppler FFT\n",
    "[dFFT, dBins, rBins] = dopplerFFT(v_array)\n",
    "\n",
    "heatmaps.plotDopplerRangeHeatmap(rBins[:60],dBins,abs(dFFT[:,:60]))"
   ]
  }
 ],
 "metadata": {
  "kernelspec": {
   "display_name": "Python 3",
   "language": "python",
   "name": "python3"
  },
  "language_info": {
   "codemirror_mode": {
    "name": "ipython",
    "version": 3
   },
   "file_extension": ".py",
   "mimetype": "text/x-python",
   "name": "python",
   "nbconvert_exporter": "python",
   "pygments_lexer": "ipython3",
   "version": "3.9.10"
  },
  "orig_nbformat": 4,
  "vscode": {
   "interpreter": {
    "hash": "b0fa6594d8f4cbf19f97940f81e996739fb7646882a419484c72d19e05852a7e"
   }
  }
 },
 "nbformat": 4,
 "nbformat_minor": 2
}
